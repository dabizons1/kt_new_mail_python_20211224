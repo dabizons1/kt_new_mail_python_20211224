{
 "cells": [
  {
   "cell_type": "code",
   "execution_count": null,
   "id": "a20dd09f",
   "metadata": {},
   "outputs": [],
   "source": [
    "import os\n",
    "import smtplib\n",
    "from email.encoders import encode_base64\n",
    "from email.header import Header\n",
    "from email.mime.base import MIMEBase\n",
    "from email.mime.multipart import MIMEMultipart\n",
    "from email.mime.text import MIMEText\n",
    "from email.utils import formatdate\n",
    "import openpyxl as xl\n",
    "\n",
    "mailServer = smtplib.SMTP('smtp.gmail.com', 587)\n",
    "mailServer.starttls()\n",
    "my_email = \"your_mail\"\n",
    "password = 'your_password'\n",
    "\n",
    "mailServer.login(my_email, password)\n",
    "\n",
    "msg = MIMEMultipart()\n",
    "PATH = os.getcwd() + \"/\"\n",
    "wb = xl.load_workbook(PATH + \"members.xlsx\")\n",
    "s1 = wb[\"Sheet1\"]\n",
    "txt = (f'''{name} 회원님 안녕하세요?\n",
    "벌써 2021년도 저물어 가고 있습니다.\n",
    "올 한해 정말 수고 많았습니다.\n",
    "첨부한 커피 쿠폰으로 조금이나마 따뜻한 연말을 보내시기 바랍니다.\n",
    "감사합니다.\n",
    "''')\n",
    "msg['Subject'] = '2021년 송년 인사'\n",
    "for i in range(2, s1.max_row + 1):\n",
    "\n",
    "    From = my_email\n",
    "    To = s1.cell(i,2).value\n",
    "\n",
    "    body = MIMEText(txt)\n",
    "    msg.attach(body)\n",
    "\n",
    "    files = list()\n",
    "    files.append(PATH + 'members.xlsx')\n",
    "    files.append(PATH + 'mail_python.txt')\n",
    "\n",
    "    for f in files:\n",
    "        part = MIMEBase('application', \"octet-stream\")\n",
    "        part.set_payload(open(f, \"rb\").read())\n",
    "        encode_base64(part)\n",
    "        part.add_header('Content-Disposition', 'attachment; filename=' + f)\n",
    "        msg.attach(part)\n",
    "\n",
    "\n",
    "    mailServer.sendmail(From, To, msg.as_string())\n",
    "mailServer.quit()"
   ]
  }
 ],
 "metadata": {
  "kernelspec": {
   "display_name": "Python 3",
   "language": "python",
   "name": "python3"
  },
  "language_info": {
   "codemirror_mode": {
    "name": "ipython",
    "version": 3
   },
   "file_extension": ".py",
   "mimetype": "text/x-python",
   "name": "python",
   "nbconvert_exporter": "python",
   "pygments_lexer": "ipython3",
   "version": "3.8.8"
  }
 },
 "nbformat": 4,
 "nbformat_minor": 5
}
